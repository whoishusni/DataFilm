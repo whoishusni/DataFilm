{
  "nbformat": 4,
  "nbformat_minor": 0,
  "metadata": {
    "colab": {
      "provenance": [],
      "collapsed_sections": [],
      "authorship_tag": "ABX9TyNPUeL7HAx3T1XwLqCRq4Vy",
      "include_colab_link": true
    },
    "kernelspec": {
      "name": "python3",
      "display_name": "Python 3"
    },
    "language_info": {
      "name": "python"
    }
  },
  "cells": [
    {
      "cell_type": "markdown",
      "metadata": {
        "id": "view-in-github",
        "colab_type": "text"
      },
      "source": [
        "<a href=\"https://colab.research.google.com/github/whoishusni/DataFilm/blob/main/DataFilm.ipynb\" target=\"_parent\"><img src=\"https://colab.research.google.com/assets/colab-badge.svg\" alt=\"Open In Colab\"/></a>"
      ]
    },
    {
      "cell_type": "code",
      "source": [
        "!pip install pyfiglet\n",
        "!pip install requests"
      ],
      "metadata": {
        "id": "sUPIlVGweBj6"
      },
      "execution_count": null,
      "outputs": []
    },
    {
      "cell_type": "code",
      "source": [
        "import requests as rq\n",
        "import datetime as dt\n",
        "from pyfiglet import Figlet\n",
        "import os\n",
        "import time\n",
        "import sys\n",
        "import csv\n",
        "import platform"
      ],
      "metadata": {
        "id": "TGw0JdHtEwXN"
      },
      "execution_count": null,
      "outputs": []
    },
    {
      "cell_type": "code",
      "source": [
        "#variable film\n",
        "API_KEY = ''\n",
        "BASE_URL = 'https://api.themoviedb.org/3'\n",
        "IMAGE_URL = 'https://image.tmdb.org/t/p/w500'\n",
        "\n",
        "banner = Figlet(font='big')\n",
        "banner_show = banner.renderText('DataFilm')\n",
        "\n",
        "def write_trending():\n",
        "    writer = csv.writer(open('trending.csv','w', newline=''))\n",
        "    header =['Judul','rilis','Skor','Sinopsis','Image']\n",
        "    writer.writerow(header)\n",
        "\n",
        "def write_search(keyword):\n",
        "    writer = csv.writer(open('{}.csv'.format(keyword),'w', newline=''))\n",
        "    header =['Judul','rilis','Skor','Sinopsis','Image']\n",
        "    writer.writerow(header)\n",
        "\n",
        "def terminal_clear():\n",
        "    if platform.system() == 'Windows':\n",
        "        os.system('cls')\n",
        "    else:\n",
        "        os.system('clear')\n",
        "  \n",
        "def trending():\n",
        "    write_trending()\n",
        "    terminal_clear()\n",
        "    print(banner_show)\n",
        "    TRENDING_ENDPOINT = f'/trending/movie/week?api_key={API_KEY}&language=id-ID'\n",
        "    sekarang = dt.date.today()\n",
        "    response = rq.get(BASE_URL+TRENDING_ENDPOINT)\n",
        "    res = response.json()\n",
        "    print('Daftar 10 Film Box Office yang Trending Minggu Ini {}' .format(str(sekarang)))\n",
        "    for i in res['results']:\n",
        "        print(f\"\"\"\n",
        "        Judul    = {i['original_title']}\n",
        "        Rilis    = {i['release_date']}\n",
        "        Skor     = {i['vote_average']}\n",
        "        Sinopsis = {i['overview']}\n",
        "        \"\"\")\n",
        "        writer = csv.writer(open('trending.csv','a', newline=''))\n",
        "        data =[i['original_title'],i['release_date'],i['vote_average'],i['overview'],IMAGE_URL+i['poster_path']]\n",
        "        writer.writerow(data)\n",
        "\n",
        "def cari(query):\n",
        "    terminal_clear()\n",
        "    print(banner_show)\n",
        "    write_search(query)\n",
        "    # kayaknya  masih mau diperbaiki URL dibawah\n",
        "    SEARCH_ENDPOINT = f'/search/movie?api_key={API_KEY}&language=id-ID&query={query}&page=1&include_adult=false'\n",
        "    response = rq.get(BASE_URL+SEARCH_ENDPOINT)\n",
        "    res = response.json()\n",
        "    print('tersedia 1 dari {} Halaman'.format(res['total_pages']))\n",
        "    for hal in range(1,res['total_pages']+1):\n",
        "        SEARCH_ENDPOINT2 = f'/search/movie?api_key={API_KEY}&language=id-ID&query={query}&page={hal}&include_adult=false'\n",
        "        print(SEARCH_ENDPOINT2)\n",
        "        response = rq.get(BASE_URL+SEARCH_ENDPOINT2)\n",
        "        ress = response.json()\n",
        "        # TODO: Masih Mau Diperbaiki - karena data dobel dan masalah di 'release_date\n",
        "        for j in ress['results']:\n",
        "            print(f\"\"\"\n",
        "            Judul    = {j['original_title']}\n",
        "            Rilis    = {j['release_date']}\n",
        "            Skor     = {j['vote_average']}\n",
        "            Sinopsis = {j['overview']}\n",
        "            \"\"\")\n",
        "            writer = csv.writer(open('{}.csv'.format(query),'a', newline=''))\n",
        "            header =[j['original_title'],j['release_date'],j['vote_average'],j['overview'],IMAGE_URL+j['poster_path']]\n",
        "            writer.writerow(header)\n",
        "\n",
        "def main():\n",
        "    terminal_clear()\n",
        "    print(banner_show)\n",
        "    print('created by : Husni\\n\\n')\n",
        "    print(' Menu Utama '.center(50,'='))\n",
        "    print('1. Daftar Film Trending Mingguan')\n",
        "    print('2. Pencarian Film')\n",
        "    print('3. Exit')\n",
        "    print('\\n')\n",
        "    menu = input('Pilih Menu : ')\n",
        "    if menu == '1':\n",
        "        trending()\n",
        "    elif menu == '2':\n",
        "        query = input('Masukkan Judul Film yang mau dicari ? ')\n",
        "        cari(query)\n",
        "    elif menu == '3':\n",
        "        print('Exit....')\n",
        "        time.sleep(0.5)\n",
        "        os._exit(os.EX_OK)\n",
        "    else:\n",
        "        print('Menu Nomor {} Tidak Ditemukan\\nSilahkan Coba Lagi'.format(menu))\n",
        "        time.sleep(2)\n",
        "        main()\n",
        "\n",
        "if __name__ == '__main__':\n",
        "    main()"
      ],
      "metadata": {
        "id": "cvSjtH4KGlwi"
      },
      "execution_count": null,
      "outputs": []
    }
  ]
}